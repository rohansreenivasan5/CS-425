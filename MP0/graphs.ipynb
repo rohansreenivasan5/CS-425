# Instead of using the hard-coded data, we will read the data from a file named "data.txt"
from matplotlib import pyplot as plt
import pandas as pd
import numpy as np

# Define the file path
file_path = "/mnt/data/data.txt"

# Read the data from the file
df = pd.read_csv(
    file_path,
    sep=" - ",
    header=None,
    names=["current_ts", "sent_ts", "size"],
    engine="python",
)

# Convert data types
df[["current_ts", "sent_ts", "size"]] = df[["current_ts", "sent_ts", "size"]].astype(
    float
)

# Calculate delay
df["delay"] = df["current_ts"] - df["sent_ts"]

# Group by each second (rounded down current timestamp)
df["current_ts_rounded"] = df["current_ts"].apply(np.floor)
delay_stats = (
    df.groupby("current_ts_rounded")["delay"]
    .agg(["min", "max", "median", lambda x: x.quantile(0.9)])
    .rename(columns={"<lambda>": "90th_percentile"})
)
bandwidth_stats = (
    df.groupby("current_ts_rounded")["size"].sum() * 8 / 1000
)  # converting to kilobits

# Plotting
fig, axes = plt.subplots(2, 1, figsize=(12, 10))

# Delay graph
delay_stats.plot(ax=axes[0])
axes[0].set_title("Delay Metrics Over Time")
axes[0].set_xlabel("Time (seconds since 1970)")
axes[0].set_ylabel("Delay (seconds)")
axes[0].grid(True)

# Bandwidth graph
bandwidth_stats.plot(ax=axes[1], kind="bar")
axes[1].set_title("Bandwidth Usage Over Time")
axes[1].set_xlabel("Time (seconds since 1970)")
axes[1].set_ylabel("Bandwidth (Kbps)")
axes[1].grid(True)

plt.tight_layout()
plt.show()
