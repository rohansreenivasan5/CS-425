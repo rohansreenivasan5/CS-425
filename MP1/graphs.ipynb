{
 "cells": [
  {
   "cell_type": "code",
   "execution_count": 24,
   "metadata": {},
   "outputs": [
    {
     "data": {
      "image/png": "[encoded data removed]",
      "text/plain": [
       "<Figure size 576x432 with 1 Axes>"
      ]
     },
     "metadata": {
      "needs_background": "light"
     },
     "output_type": "display_data"
    },
    {
     "data": {
      "text/plain": [
       "(None,\n",
       "                                              event_key  \\\n",
       " 0    node1:DEPOSIT o 88:2d42fdaffb5cb25ef42040caa64...   \n",
       " 1    node1:DEPOSIT q 66:df80aaa424678c4e4b7a99714d5...   \n",
       " 2    node1:DEPOSIT k 76:2f34d10f989839c9a2cf7aaa714...   \n",
       " 3    node1:TRANSFER k -> c 46:8983c00508afef54d62fe...   \n",
       " 4    node1:DEPOSIT k 91:aaea4e9b243985d2d2293a9aed7...   \n",
       " ..                                                 ...   \n",
       " 721  node3:TRANSFER r -> p 2:d0c90234e43c6b9a3e8ff4...   \n",
       " 722  node2:TRANSFER g -> z 152:3c7a022288072cef9b0d...   \n",
       " 723  node1:TRANSFER l -> y 18:4c947ce31eb239a1a5f20...   \n",
       " 724  node2:TRANSFER o -> s 7:84f6180785edcb6ba999f3...   \n",
       " 725  node2:TRANSFER v -> r 1:680e6e4941ae154e531369...   \n",
       " \n",
       "                      time_created                time_delivered  \\\n",
       " 0   2024-03-04 17:25:03.927679207 2024-03-04 17:25:03.928554372   \n",
       " 1   2024-03-04 17:25:03.927883337 2024-03-04 17:25:03.928661003   \n",
       " 2   2024-03-04 17:25:03.927911520 2024-03-04 17:25:03.928759684   \n",
       " 3   2024-03-04 17:25:03.927947308 2024-03-04 17:25:03.928849388   \n",
       " 4   2024-03-04 17:25:03.927977260 2024-03-04 17:25:03.928934818   \n",
       " ..                            ...                           ...   \n",
       " 721 2024-03-04 17:26:45.621989352 2024-03-04 17:26:45.622433244   \n",
       " 722 2024-03-04 17:26:46.344496735 2024-03-04 17:26:46.345102936   \n",
       " 723 2024-03-04 17:26:46.581986146 2024-03-04 17:26:46.582595749   \n",
       " 724 2024-03-04 17:26:46.896431421 2024-03-04 17:26:46.897010361   \n",
       " 725 2024-03-04 17:26:46.944048250 2024-03-04 17:26:46.947180734   \n",
       " \n",
       "      processing_time  \n",
       " 0           0.000950  \n",
       " 1           0.000922  \n",
       " 2           0.000984  \n",
       " 3           0.001054  \n",
       " 4           0.001093  \n",
       " ..               ...  \n",
       " 721         0.000509  \n",
       " 722         0.000606  \n",
       " 723         0.000609  \n",
       " 724         0.000583  \n",
       " 725         0.004425  \n",
       " \n",
       " [726 rows x 4 columns])"
      ]
     },
     "execution_count": 24,
     "metadata": {},
     "output_type": "execute_result"
    }
   ],
   "source": [
    "import pandas as pd\n",
    "import matplotlib.pyplot as plt\n",
    "import numpy as np\n",
    "import glob\n",
    "\n",
    "# Function to read and concatenate log files into a single DataFrame\n",
    "def read_logs_to_df(log_files_pattern):\n",
    "    all_files = glob.glob(log_files_pattern)\n",
    "    list_of_dfs = []\n",
    "    \n",
    "    for filename in all_files:\n",
    "        df = pd.read_csv(filename, header=None, names=[\"event_key\", \"time_created\", \"time_delivered\"])\n",
    "        list_of_dfs.append(df)\n",
    "    \n",
    "    # Concatenate all data into one DataFrame\n",
    "    combined_df = pd.concat(list_of_dfs, axis=0, ignore_index=True)\n",
    "    \n",
    "    # Convert time strings to datetime\n",
    "    combined_df[\"time_created\"] = pd.to_datetime(combined_df[\"time_created\"])\n",
    "    combined_df[\"time_delivered\"] = pd.to_datetime(combined_df[\"time_delivered\"])\n",
    "    \n",
    "    return combined_df\n",
    "\n",
    "# Use the function to read all log files into a DataFrame\n",
    "log_files_pattern = '*.log'  # Update this path to where your log files are stored\n",
    "df = read_logs_to_df(log_files_pattern)\n",
    "\n",
    "# Creating dicts for latest possible time delivered for each event and time created\n",
    "latest_time_delivered_dict = df.groupby(\"event_key\")[\"time_delivered\"].max().to_dict()\n",
    "time_created_dict = df.set_index(\"event_key\")[\"time_created\"].to_dict()\n",
    "\n",
    "# Calculate processing time using the new logic\n",
    "df[\"processing_time\"] = df[\"event_key\"].apply(lambda x: (latest_time_delivered_dict[x] - time_created_dict[x]).total_seconds())\n",
    "\n",
    "# Plotting CDF with new logic\n",
    "plt.figure(figsize=(8, 6))\n",
    "processing_times = np.sort(df[\"processing_time\"])\n",
    "cdf = np.arange(1, len(processing_times) + 1) / len(processing_times)\n",
    "plt.plot(processing_times, cdf, marker=\".\", linestyle=\"none\")\n",
    "plt.title(\"CDF of Transaction Processing Times with New Logic\")\n",
    "plt.xlabel(\"Processing Time (seconds)\")\n",
    "plt.ylabel(\"CDF\")\n",
    "\n",
    "plt.xlim(0, .003)  # Set the x-axis to have a max of 5 seconds\n",
    "\n",
    "plt.grid(True)\n",
    "plt.show(), df\n"
   ]
  },
  {
   "cell_type": "code",
   "execution_count": null,
   "metadata": {},
   "outputs": [],
   "source": []
  }
 ],
 "metadata": {
  "kernelspec": {
   "display_name": "base",
   "language": "python",
   "name": "python3"
  },
  "language_info": {
   "codemirror_mode": {
    "name": "ipython",
    "version": 3
   },
   "file_extension": ".py",
   "mimetype": "text/x-python",
   "name": "python",
   "nbconvert_exporter": "python",
   "pygments_lexer": "ipython3",
   "version": "3.8.8"
  }
 },
 "nbformat": 4,
 "nbformat_minor": 2
}
